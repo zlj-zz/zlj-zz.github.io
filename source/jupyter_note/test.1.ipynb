{
 "metadata": {
  "language_info": {
   "codemirror_mode": {
    "name": "ipython",
    "version": 3
   },
   "file_extension": ".py",
   "mimetype": "text/x-python",
   "name": "python",
   "nbconvert_exporter": "python",
   "pygments_lexer": "ipython3",
   "version": "3.6.8-final"
  },
  "orig_nbformat": 2,
  "kernelspec": {
   "name": "python3",
   "display_name": "Python 3.6.8 64-bit ('3.6.8')",
   "metadata": {
    "interpreter": {
     "hash": "25f39b377047cb5eb845efce166cf2a18acde4dde411eb9b5cb13dfc0b62fea6"
    }
   }
  }
 },
 "nbformat": 4,
 "nbformat_minor": 2,
 "cells": [
  {
   "cell_type": "code",
   "execution_count": 20,
   "metadata": {},
   "outputs": [],
   "source": [
    "import numpy as np \n",
    "import torch\n"
   ]
  },
  {
   "cell_type": "code",
   "execution_count": 21,
   "metadata": {},
   "outputs": [
    {
     "output_type": "stream",
     "name": "stdout",
     "text": [
      "[0.1 0.2 0.3] tensor([0.1000, 0.2000, 0.3000])\n"
     ]
    }
   ],
   "source": [
    "x_numpy = np.array([.1,.2,.3])\n",
    "x_torch = torch.tensor([.1,.2,.3])\n",
    "print(x_numpy, x_torch)"
   ]
  },
  {
   "cell_type": "code",
   "execution_count": 22,
   "metadata": {},
   "outputs": [
    {
     "output_type": "stream",
     "name": "stdout",
     "text": [
      "tensor([0.1000, 0.2000, 0.3000], dtype=torch.float64) <built-in method numpy of Tensor object at 0x7fe3b0551d38>\n"
     ]
    }
   ],
   "source": [
    "print(torch.from_numpy(x_numpy), x_torch.numpy)"
   ]
  },
  {
   "cell_type": "code",
   "execution_count": 23,
   "metadata": {},
   "outputs": [
    {
     "output_type": "stream",
     "name": "stdout",
     "text": [
      "[3.1 4.2 5.3]\ntensor([3.1000, 4.2000, 5.3000])\n"
     ]
    }
   ],
   "source": [
    "y_numpy = np.array([3,4,5])\n",
    "y_torch = torch.tensor([3,4,5])\n",
    "\n",
    "print(x_numpy + y_numpy)\n",
    "print(x_torch + y_torch)"
   ]
  },
  {
   "source": [
    "N, C, W, H = 10000, 3, 28, 28\n",
    "X = torch.randn((N, C, W, H))\n",
    "\n",
    "print(X.shape)\n",
    "print(X.view(N, C, 784).shape)"
   ],
   "cell_type": "code",
   "metadata": {},
   "execution_count": 24,
   "outputs": [
    {
     "output_type": "stream",
     "name": "stdout",
     "text": [
      "torch.Size([10000, 3, 28, 28])\ntorch.Size([10000, 3, 784])\n"
     ]
    }
   ]
  },
  {
   "source": [
    "---\n",
    "\n",
    "Let $w = [w_{1}, w_{2}]^{T}$\n",
    "\n",
    "Consider $g(w) = 2w_{1}w_{2} + w_{2}cos(w_{1})$\n",
    "\n",
    "Q: Compute  $\\nabla_{w}g(w)$ and verify $\\nabla_{w}g([\\pi, 1]) = [2, \\pi - 1]^{T}$"
   ],
   "cell_type": "markdown",
   "metadata": {}
  },
  {
   "cell_type": "code",
   "execution_count": 25,
   "metadata": {},
   "outputs": [
    {
     "output_type": "stream",
     "name": "stdout",
     "text": [
      "tensor(5.2832, grad_fn=<AddBackward0>)\ntensor([2.0000, 5.2832])\ntensor([2.0000, 5.2832])\n"
     ]
    }
   ],
   "source": [
    "def g(w):\n",
    "    return 2*w[0]*w[1] + w[1]*torch.cos(w[0])\n",
    "\n",
    "def grad_g(w):\n",
    "    return torch.tensor([2*w[1] - w[1]*torch.sin(w[0]), 2*w[0] + torch.cos(w[0])])\n",
    "\n",
    "w = torch.tensor([np.pi, 1], requires_grad=True)\n",
    "\n",
    "z =g(w)\n",
    "z.backward()\n",
    "\n",
    "print(z)\n",
    "\n",
    "print(grad_g(w))\n",
    "print(w.grad)"
   ]
  },
  {
   "source": [
    "---\n",
    "\n",
    "For **pytorch.tensor**:\n",
    "\n",
    "`@` matrix multiplication\n",
    "\n",
    "`*` matrix is multiplited by elements \n"
   ],
   "cell_type": "markdown",
   "metadata": {}
  },
  {
   "cell_type": "code",
   "execution_count": 26,
   "metadata": {},
   "outputs": [
    {
     "output_type": "stream",
     "name": "stdout",
     "text": [
      "torch.Size([50, 2])\ntorch.Size([50, 1])\ntensor([[-1.],\n        [ 2.]])\n"
     ]
    }
   ],
   "source": [
    "d = 2\n",
    "n = 50\n",
    "X = torch.randn(n, d)\n",
    "true_w = torch.tensor([[-1.0], [2.0]])\n",
    "y = X @ true_w + torch.randn(n, 1) * 0.1\n",
    "\n",
    "print(X.shape)\n",
    "print(y.shape)\n",
    "print(true_w)"
   ]
  },
  {
   "cell_type": "code",
   "execution_count": 27,
   "metadata": {},
   "outputs": [
    {
     "output_type": "stream",
     "name": "stdout",
     "text": [
      "[ 4.0762863 -4.3227434]\n[ 4.0762863 -4.3227434]\n"
     ]
    }
   ],
   "source": [
    "# defien a linear model with no bias\n",
    "def model(X, w):\n",
    "    return X @ w\n",
    "\n",
    "# the residual sum of squares loss function\n",
    "def rss(y, y_hat): \n",
    "    return torch.norm(y - y_hat)**2 / n\n",
    "\n",
    "# analytical expression for the gradient\n",
    "def grad_rss(X, y, w):\n",
    "    return -2*X.t() @ (y - X @ w) / n\n",
    "\n",
    "w = torch.tensor([[1.], [0]], requires_grad=True)\n",
    "y_hat = model(X, w)\n",
    "\n",
    "loss = rss(y, y_hat)\n",
    "loss.backward()\n",
    "\n",
    "print(grad_rss(X, y, w).detach().view(2).numpy())\n",
    "print(w.grad.view(2).numpy())"
   ]
  },
  {
   "cell_type": "code",
   "execution_count": 29,
   "metadata": {},
   "outputs": [
    {
     "output_type": "stream",
     "name": "stdout",
     "text": [
      "iter \tloss \tw\n0 \t5.27 \t[0.26795283 0.77162653]\n1 \t3.30 \t[0.00964156 1.0379208 ]\n2 \t2.06 \t[-0.19613089  1.2467923 ]\n3 \t1.29 \t[-0.36013207  1.4105444 ]\n4 \t0.81 \t[-0.49090934  1.5388565 ]\n5 \t0.51 \t[-0.59525    1.6393421]\n6 \t0.32 \t[-0.67854536  1.7179877 ]\n7 \t0.21 \t[-0.7450795  1.7794993]\n8 \t0.13 \t[-0.79825795  1.8275752 ]\n9 \t0.09 \t[-0.8407888  1.8651206]\n10 \t0.06 \t[-0.87482655  1.8944172 ]\n11 \t0.04 \t[-0.9020861  1.9172559]\n12 \t0.03 \t[-0.9239327  1.9350421]\n13 \t0.02 \t[-0.9414542  1.9488782]\n14 \t0.02 \t[-0.95551753  1.9596282 ]\n15 \t0.01 \t[-0.96681416  1.9679693 ]\n16 \t0.01 \t[-0.9758957  1.9744316]\n17 \t0.01 \t[-0.9832026  1.9794302]\n18 \t0.01 \t[-0.9890866  1.9832895]\n19 \t0.01 \t[-0.9938291  1.986263 ]\n[-1.  2.]\n[-0.9938291  1.986263 ]\n"
     ]
    }
   ],
   "source": [
    "step_size = 0.1\n",
    "print('iter \\tloss \\tw')\n",
    "\n",
    "for i in range(20):\n",
    "    y_hat = model(X, w)\n",
    "    loss = rss(y, y_hat)\n",
    "\n",
    "    loss.backward()\n",
    "\n",
    "    w.data = w.data - step_size*w.grad\n",
    "\n",
    "    print('{} \\t{:.2f} \\t{}'.format(i, loss.item(), w.view(2).detach().numpy()))\n",
    "\n",
    "    w.grad.detach()\n",
    "    w.grad.zero_()\n",
    "\n",
    "print(true_w.view(2).numpy())\n",
    "print(w.view(2).detach().numpy())\n",
    "    "
   ]
  },
  {
   "cell_type": "code",
   "execution_count": null,
   "metadata": {},
   "outputs": [],
   "source": []
  }
 ]
}